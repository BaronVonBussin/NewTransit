{
  "nbformat": 4,
  "nbformat_minor": 0,
  "metadata": {
    "colab": {
      "provenance": [],
      "authorship_tag": "ABX9TyPmklqSdaaYfaCIhatwavBM",
      "include_colab_link": true
    },
    "kernelspec": {
      "name": "python3",
      "display_name": "Python 3"
    },
    "language_info": {
      "name": "python"
    }
  },
  "cells": [
    {
      "cell_type": "markdown",
      "metadata": {
        "id": "view-in-github",
        "colab_type": "text"
      },
      "source": [
        "<a href=\"https://colab.research.google.com/github/BaronVonBussin/NewTransit/blob/main/turbulance_other.ipynb\" target=\"_parent\"><img src=\"https://colab.research.google.com/assets/colab-badge.svg\" alt=\"Open In Colab\"/></a>"
      ]
    },
    {
      "cell_type": "code",
      "source": [
        "import pandas as pd\n",
        "import numpy as np\n",
        "\n",
        "# Load sector data - you'll need these 11 sectors:\n",
        "sectors = [\n",
        "    'XLB',  # Materials\n",
        "    'XLE',  # Energy\n",
        "    'XLF',  # Financials\n",
        "    'XLI',  # Industrials\n",
        "    'XLK',  # Technology\n",
        "    'XLP',  # Consumer Staples\n",
        "    'XLU',  # Utilities\n",
        "    'XLV',  # Healthcare\n",
        "    'XLY',  # Consumer Discretionary\n",
        "]\n",
        "\n",
        "# Load data for each sector (adjust path)\n",
        "def load_sector_data(symbols, start='2010-07-01', end='2019-12-31'):\n",
        "    df = pd.DataFrame()\n",
        "    for symbol in symbols:\n",
        "        data = pd.read_csv(f'{symbol}_OHLC.csv', thousands=',')\n",
        "        data.index = pd.to_datetime(data['Date'])\n",
        "        df[symbol] = data['Close'].pct_change()\n",
        "    return df.dropna()\n",
        "\n",
        "returns = load_sector_data(sectors)\n",
        "\n",
        "def calculate_turbulence(returns, window=252):\n",
        "    turbulence = []\n",
        "    for i in range(window, len(returns)):\n",
        "        historical = returns.iloc[i-window:i]\n",
        "        mu = historical.mean()\n",
        "        sigma = historical.cov()\n",
        "        sigma_inv = np.linalg.inv(sigma)\n",
        "        y = returns.iloc[i] - mu\n",
        "        d = np.sqrt(y.dot(sigma_inv).dot(y))\n",
        "        turbulence.append(d)\n",
        "\n",
        "    return pd.Series(turbulence, index=returns.index[window:])\n",
        "\n",
        "turb_index = calculate_turbulence(returns)\n",
        "turb_index.to_csv('sector_turbulence_index.csv')"
      ],
      "metadata": {
        "id": "rcTgwIpziJmX"
      },
      "execution_count": null,
      "outputs": []
    },
    {
      "cell_type": "code",
      "execution_count": null,
      "metadata": {
        "id": "DErjbljhhayS"
      },
      "outputs": [],
      "source": [
        "import pandas as pd\n",
        "import numpy as np\n",
        "from datetime import datetime, timedelta\n",
        "\n",
        "# Load data starting 6 months before required start date\n",
        "start_date = '2010-07-01'  # 6 months before 2011\n",
        "end_date = '2019-12-31'\n",
        "\n",
        "# Load your data (adjust paths)\n",
        "sp = pd.read_csv('path_to_spx.csv', thousands=',')\n",
        "vx = pd.read_csv('path_to_vix.csv', thousands=',')\n",
        "\n",
        "# Prepare returns dataframe\n",
        "sp.index = pd.to_datetime(sp['date'])\n",
        "vx.index = pd.to_datetime(vx['date'])\n",
        "\n",
        "# Calculate daily returns\n",
        "returns = pd.DataFrame({\n",
        "   'SPX': sp['close'].pct_change(),\n",
        "   'VIX': vx['close'].pct_change()\n",
        "}).dropna()\n",
        "\n",
        "def calculate_turbulence(returns, window=252):\n",
        "   turbulence = []\n",
        "   for i in range(window, len(returns)):\n",
        "       # Get historical sample\n",
        "       historical = returns.iloc[i-window:i]\n",
        "\n",
        "       # Calculate mean and covariance\n",
        "       mu = historical.mean()\n",
        "       sigma = historical.cov()\n",
        "       sigma_inv = np.linalg.inv(sigma)\n",
        "\n",
        "       # Get current return vector\n",
        "       y = returns.iloc[i] - mu\n",
        "\n",
        "       # Calculate Mahalanobis distance\n",
        "       d = np.sqrt(y.dot(sigma_inv).dot(y))\n",
        "       turbulence.append(d)\n",
        "\n",
        "   return pd.Series(turbulence, index=returns.index[window:])\n",
        "\n",
        "# Calculate turbulence index\n",
        "turbulence_index = calculate_turbulence(returns)\n",
        "\n",
        "# Save to CSV\n",
        "turbulence_index.to_csv('turbulence_index_2011_2019.csv', header=['turbulence'])\n",
        "\n",
        "print(f\"Turbulence index generated from {turbulence_index.index[0]} to {turbulence_index.index[-1]}\")"
      ]
    }
  ]
}