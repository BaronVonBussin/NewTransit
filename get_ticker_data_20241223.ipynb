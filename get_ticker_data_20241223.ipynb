{
  "nbformat": 4,
  "nbformat_minor": 0,
  "metadata": {
    "colab": {
      "provenance": [],
      "authorship_tag": "ABX9TyPUPkY67dEFcAXGxo2hAgbx",
      "include_colab_link": true
    },
    "kernelspec": {
      "name": "python3",
      "display_name": "Python 3"
    },
    "language_info": {
      "name": "python"
    }
  },
  "cells": [
    {
      "cell_type": "markdown",
      "metadata": {
        "id": "view-in-github",
        "colab_type": "text"
      },
      "source": [
        "<a href=\"https://colab.research.google.com/github/BaronVonBussin/NewTransit/blob/main/get_ticker_data_20241223.ipynb\" target=\"_parent\"><img src=\"https://colab.research.google.com/assets/colab-badge.svg\" alt=\"Open In Colab\"/></a>"
      ]
    },
    {
      "cell_type": "code",
      "execution_count": 4,
      "metadata": {
        "colab": {
          "base_uri": "https://localhost:8080/"
        },
        "id": "V0tKO5PoKLSp",
        "outputId": "26b61231-35c6-46b5-88b0-8bc5a36f5cc7"
      },
      "outputs": [
        {
          "output_type": "stream",
          "name": "stderr",
          "text": [
            "[*********************100%***********************]  10 of 10 completed\n"
          ]
        },
        {
          "output_type": "stream",
          "name": "stdout",
          "text": [
            "OHLC data downloaded and saved.\n"
          ]
        }
      ],
      "source": [
        "import yfinance as yf\n",
        "\n",
        "# List of tickers\n",
        "tickers = [\"SPY\", \"XLE\", \"XLI\", \"XLK\", \"XLU\", \"XLF\", \"XLP\", \"XLY\", \"XLV\", \"XLB\"]\n",
        "\n",
        "# Download data since 1995\n",
        "data = yf.download(tickers, start=\"1995-01-01\", end=\"2024-12-19\", group_by=\"ticker\")\n",
        "\n",
        "# Save each ticker's data as a CSV\n",
        "for ticker in tickers:\n",
        "    data[ticker].to_csv(f\"{ticker}_OHLC.csv\")\n",
        "\n",
        "print(\"OHLC data downloaded and saved.\")\n"
      ]
    },
    {
      "cell_type": "code",
      "source": [
        "import pandas as pd\n",
        "\n",
        "# Load data from CSV\n",
        "def load_data(file_path):\n",
        "    # Load the CSV file\n",
        "    df = pd.read_csv(file_path)\n",
        "    # Ensure 'Date' column is in datetime format\n",
        "    df['Date'] = pd.to_datetime(df['Date'])\n",
        "    # Set 'Date' as the index\n",
        "    df.set_index('Date', inplace=True)\n",
        "    return df\n",
        "\n",
        "# Aggregate data to weekly and monthly levels\n",
        "def aggregate_data(df):\n",
        "    # Weekly aggregation (sum)\n",
        "    weekly_data = df.resample('W').sum()\n",
        "\n",
        "    # Monthly aggregation (mean)\n",
        "    monthly_data = df.resample('ME').mean()\n",
        "\n",
        "    return weekly_data, monthly_data\n",
        "\n",
        "# Save aggregated data to CSV\n",
        "def save_to_csv(data, file_name):\n",
        "    data.to_csv(file_name)\n",
        "    print(f\"Saved {file_name}\")\n",
        "\n",
        "# Main program\n",
        "if __name__ == \"__main__\":\n",
        "    # Path to the input CSV file\n",
        "    input_file = \"/content/XLB_OHLC.csv\"  # Replace with your file path\n",
        "\n",
        "    print(\"Loading data from CSV...\")\n",
        "    df = load_data(input_file)\n",
        "    print(\"Daily Data:\")\n",
        "    print(df.head())\n",
        "\n",
        "    print(\"\\nAggregating data to weekly and monthly levels...\")\n",
        "    weekly_data, monthly_data = aggregate_data(df)\n",
        "\n",
        "    print(\"\\nWeekly Data (Sum):\")\n",
        "    print(weekly_data.head())\n",
        "\n",
        "    print(\"\\nMonthly Data (Mean):\")\n",
        "    print(monthly_data.head())\n",
        "\n",
        "    # Save aggregated data to CSV files\n",
        "    save_to_csv(weekly_data, \"XLB_weekly_data.csv\")\n",
        "    save_to_csv(monthly_data, \"XLB_monthly_data.csv\")\n",
        "    print(\"\\nAggregated data saved to CSV files.\")\n"
      ],
      "metadata": {
        "colab": {
          "base_uri": "https://localhost:8080/"
        },
        "id": "BgFJ5ijRpc93",
        "outputId": "2bd4cb82-57c4-4472-8253-cda8f61e7d1a"
      },
      "execution_count": 5,
      "outputs": [
        {
          "output_type": "stream",
          "name": "stdout",
          "text": [
            "Loading data from CSV...\n",
            "Daily Data:\n",
            "            Open  High  Low  Close  Adj Close  Volume\n",
            "Date                                                 \n",
            "1995-01-03   NaN   NaN  NaN    NaN        NaN     NaN\n",
            "1995-01-04   NaN   NaN  NaN    NaN        NaN     NaN\n",
            "1995-01-05   NaN   NaN  NaN    NaN        NaN     NaN\n",
            "1995-01-06   NaN   NaN  NaN    NaN        NaN     NaN\n",
            "1995-01-09   NaN   NaN  NaN    NaN        NaN     NaN\n",
            "\n",
            "Aggregating data to weekly and monthly levels...\n",
            "\n",
            "Weekly Data (Sum):\n",
            "            Open  High  Low  Close  Adj Close  Volume\n",
            "Date                                                 \n",
            "1995-01-08   0.0   0.0  0.0    0.0        0.0     0.0\n",
            "1995-01-15   0.0   0.0  0.0    0.0        0.0     0.0\n",
            "1995-01-22   0.0   0.0  0.0    0.0        0.0     0.0\n",
            "1995-01-29   0.0   0.0  0.0    0.0        0.0     0.0\n",
            "1995-02-05   0.0   0.0  0.0    0.0        0.0     0.0\n",
            "\n",
            "Monthly Data (Mean):\n",
            "            Open  High  Low  Close  Adj Close  Volume\n",
            "Date                                                 \n",
            "1995-01-31   NaN   NaN  NaN    NaN        NaN     NaN\n",
            "1995-02-28   NaN   NaN  NaN    NaN        NaN     NaN\n",
            "1995-03-31   NaN   NaN  NaN    NaN        NaN     NaN\n",
            "1995-04-30   NaN   NaN  NaN    NaN        NaN     NaN\n",
            "1995-05-31   NaN   NaN  NaN    NaN        NaN     NaN\n",
            "Saved XLB_weekly_data.csv\n",
            "Saved XLB_monthly_data.csv\n",
            "\n",
            "Aggregated data saved to CSV files.\n"
          ]
        }
      ]
    }
  ]
}