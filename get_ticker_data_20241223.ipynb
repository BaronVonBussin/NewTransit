{
  "nbformat": 4,
  "nbformat_minor": 0,
  "metadata": {
    "colab": {
      "provenance": [],
      "authorship_tag": "ABX9TyNasDqH85HKjg31Ql8rNEuZ",
      "include_colab_link": true
    },
    "kernelspec": {
      "name": "python3",
      "display_name": "Python 3"
    },
    "language_info": {
      "name": "python"
    }
  },
  "cells": [
    {
      "cell_type": "markdown",
      "metadata": {
        "id": "view-in-github",
        "colab_type": "text"
      },
      "source": [
        "<a href=\"https://colab.research.google.com/github/BaronVonBussin/NewTransit/blob/main/get_ticker_data_20241223.ipynb\" target=\"_parent\"><img src=\"https://colab.research.google.com/assets/colab-badge.svg\" alt=\"Open In Colab\"/></a>"
      ]
    },
    {
      "cell_type": "code",
      "execution_count": 1,
      "metadata": {
        "id": "V0tKO5PoKLSp",
        "outputId": "cb9ebbbc-66fc-4c02-993c-56165283983a",
        "colab": {
          "base_uri": "https://localhost:8080/"
        }
      },
      "outputs": [
        {
          "output_type": "stream",
          "name": "stderr",
          "text": [
            "[*********************100%***********************]  69 of 69 completed\n"
          ]
        },
        {
          "output_type": "stream",
          "name": "stdout",
          "text": [
            "OHLC data downloaded and saved.\n"
          ]
        }
      ],
      "source": [
        "import yfinance as yf\n",
        "\n",
        "# List of tickers\n",
        "tickers = [\"SPY\", \"TQQQ\", \"QQQ\", \"SQQQ\", \"EEM\", \"XLF\", \"GLD\", \"XLE\", \"EFA\", \"GDX\", \"XLK\", \"TLT\", \"XLV\", \"FXI\", \"XLY\", \"XLI\", \"XLU\", \"XLP\", \"XLB\", \"TSLA\", \"AMD\", \"AMZN\", \"META\", \"NVDA\", \"BAC\", \"F\", \"LCID\", \"WFC\", \"T\", \"PLTR\", \"GE\", \"GOOGL\", \"GOOG\", \"PYPL\", \"NFLX\", \"MRO\", \"PFE\", \"SOFI\", \"UBER\", \"XOM\", \"AAP\", \"MS\", \"BMY\", \"GM\", \"OXY\", \"C\", \"CCL\", \"SNAP\", \"SQ\", \"NIO\", \"X\", \"DAL\", \"FCX\", \"BABA\", \"DVN\", \"MPC\", \"RIVN\", \"UAL\", \"AAL\", \"GOLD\", \"ABBV\", \"HAL\", \"TGT\", \"MU\", \"HOOD\", \"DKNG\", \"COP\", \"CVE\", \"PENN\"]\n",
        "\n",
        "# Download data since 1995\n",
        "data = yf.download(tickers, start=\"2004-01-01\", end=\"2024-12-31\", group_by=\"ticker\")\n",
        "\n",
        "# Save each ticker's data as a CSV\n",
        "for ticker in tickers:\n",
        "    data[ticker].to_csv(f\"{ticker}_OHLC.csv\")\n",
        "\n",
        "print(\"OHLC data downloaded and saved.\")\n"
      ]
    },
    {
      "cell_type": "code",
      "source": [
        "import pandas as pd\n",
        "import os\n",
        "\n",
        "# Use same tickers as cell 1\n",
        "tickers = [\"SPY\", \"TQQQ\", \"QQQ\", \"SQQQ\", \"EEM\", \"XLF\", \"GLD\", \"XLE\", \"EFA\", \"GDX\", \"XLK\", \"TLT\", \"XLV\", \"FXI\", \"XLY\", \"XLI\", \"XLU\", \"XLP\", \"XLB\", \"TSLA\", \"AMD\", \"AMZN\", \"META\", \"NVDA\", \"BAC\", \"F\", \"LCID\", \"WFC\", \"T\", \"PLTR\", \"GE\", \"GOOGL\", \"GOOG\", \"PYPL\", \"NFLX\", \"MRO\", \"PFE\", \"SOFI\", \"UBER\", \"XOM\", \"AAP\", \"MS\", \"BMY\", \"GM\", \"OXY\", \"C\", \"CCL\", \"SNAP\", \"SQ\", \"NIO\", \"X\", \"DAL\", \"FCX\", \"BABA\", \"DVN\", \"MPC\", \"RIVN\", \"UAL\", \"AAL\", \"GOLD\", \"ABBV\", \"HAL\", \"TGT\", \"MU\", \"HOOD\", \"DKNG\", \"COP\", \"CVE\", \"PENN\"]\n",
        "\n",
        "# Create export directories if they don't exist\n",
        "os.makedirs('/content/export_daily', exist_ok=True)\n",
        "os.makedirs('/content/export_weekly', exist_ok=True)\n",
        "os.makedirs('/content/export_monthly', exist_ok=True)\n",
        "\n",
        "def validate_data(df, ticker):\n",
        "    \"\"\"Validate OHLC data for errors\"\"\"\n",
        "    # Store original row count\n",
        "    original_count = len(df)\n",
        "\n",
        "    # Round all values to 4 decimal places\n",
        "    for col in ['Open', 'High', 'Low', 'Close']:\n",
        "        df[col] = df[col].round(4)\n",
        "\n",
        "    # Create mask for each condition\n",
        "    non_zero = (df['Open'] > 0) & (df['High'] > 0) & (df['Low'] > 0) & (df['Close'] > 0)\n",
        "    valid_low = (df['Low'] <= df['Close']) & (df['Low'] <= df['Open'])\n",
        "    valid_high = (df['High'] >= df['Close']) & (df['High'] >= df['Open'])\n",
        "    valid_range = (df['High'] - df['Low']) > 0\n",
        "\n",
        "    # Combine all conditions\n",
        "    valid_rows = non_zero & valid_low & valid_high & valid_range\n",
        "\n",
        "    # Filter data\n",
        "    df_clean = df[valid_rows].copy()\n",
        "\n",
        "    # Report removed rows\n",
        "    removed_count = original_count - len(df_clean)\n",
        "    if removed_count > 0:\n",
        "        print(f\"{ticker}: Removed {removed_count} invalid rows out of {original_count}\")\n",
        "\n",
        "    return df_clean\n",
        "\n",
        "def load_data(ticker):\n",
        "    file_path = f'{ticker}_OHLC.csv'\n",
        "    df = pd.read_csv(file_path)\n",
        "    df['Date'] = pd.to_datetime(df['Date'])\n",
        "\n",
        "    # Ensure column order for daily data\n",
        "    column_order = ['Date', 'Open', 'High', 'Low', 'Close']\n",
        "    df = df[column_order]\n",
        "\n",
        "    # Validate and clean data before proceeding\n",
        "    df = validate_data(df, ticker)\n",
        "\n",
        "    return df\n",
        "\n",
        "def aggregate_data(df):\n",
        "    agg_rules = {\n",
        "        'Open': 'first',\n",
        "        'High': 'max',\n",
        "        'Low': 'min',\n",
        "        'Close': 'last'\n",
        "    }\n",
        "\n",
        "    weekly_data = df.set_index('Date').resample('W').agg(agg_rules).reset_index()\n",
        "    monthly_data = df.set_index('Date').resample('ME').agg(agg_rules).reset_index()\n",
        "\n",
        "    column_order = ['Date', 'Open', 'High', 'Low', 'Close']\n",
        "    weekly_data = weekly_data[column_order]\n",
        "    monthly_data = monthly_data[column_order]\n",
        "\n",
        "    # Validate aggregated data\n",
        "    weekly_data = validate_data(weekly_data, f\"{df.name}_weekly\")\n",
        "    monthly_data = validate_data(monthly_data, f\"{df.name}_monthly\")\n",
        "\n",
        "    return weekly_data, monthly_data\n",
        "\n",
        "def save_to_csv(data, ticker, period):\n",
        "    if period == 'daily':\n",
        "        file_path = f'/content/export_daily/{ticker}_daily.csv'\n",
        "    elif period == 'weekly':\n",
        "        file_path = f'/content/export_weekly/{ticker}_weekly.csv'\n",
        "    else:\n",
        "        file_path = f'/content/export_monthly/{ticker}_monthly.csv'\n",
        "\n",
        "    data.to_csv(file_path, index=False)\n",
        "    print(f\"Saved {file_path}\")\n",
        "\n",
        "def process_ticker(ticker):\n",
        "    print(f\"Processing {ticker}...\")\n",
        "    try:\n",
        "        # Load and save daily data\n",
        "        df = load_data(ticker)\n",
        "        df.name = ticker  # Add name attribute for reference in aggregation\n",
        "\n",
        "        if len(df) > 0:  # Only proceed if we have valid data\n",
        "            save_to_csv(df, ticker, 'daily')\n",
        "\n",
        "            # Process and save weekly/monthly data\n",
        "            weekly_data, monthly_data = aggregate_data(df)\n",
        "\n",
        "            if len(weekly_data) > 0:\n",
        "                save_to_csv(weekly_data, ticker, 'weekly')\n",
        "            if len(monthly_data) > 0:\n",
        "                save_to_csv(monthly_data, ticker, 'monthly')\n",
        "\n",
        "            print(f\"Successfully processed {ticker}\")\n",
        "        else:\n",
        "            print(f\"No valid data for {ticker}\")\n",
        "\n",
        "    except Exception as e:\n",
        "        print(f\"Error processing {ticker}: {str(e)}\")\n",
        "\n",
        "# Process all tickers\n",
        "for ticker in tickers:\n",
        "    process_ticker(ticker)"
      ],
      "metadata": {
        "id": "v54f4Pja7eBg",
        "outputId": "73f3654b-48c1-42d0-8c00-1a6ef177d975",
        "colab": {
          "base_uri": "https://localhost:8080/"
        }
      },
      "execution_count": 2,
      "outputs": [
        {
          "output_type": "stream",
          "name": "stdout",
          "text": [
            "Processing SPY...\n",
            "Saved /content/export_daily/SPY_daily.csv\n",
            "Saved /content/export_weekly/SPY_weekly.csv\n",
            "Saved /content/export_monthly/SPY_monthly.csv\n",
            "Successfully processed SPY\n",
            "Processing TQQQ...\n",
            "TQQQ: Removed 1538 invalid rows out of 5284\n",
            "Saved /content/export_daily/TQQQ_daily.csv\n",
            "Saved /content/export_weekly/TQQQ_weekly.csv\n",
            "Saved /content/export_monthly/TQQQ_monthly.csv\n",
            "Successfully processed TQQQ\n",
            "Processing QQQ...\n"
          ]
        },
        {
          "output_type": "stream",
          "name": "stderr",
          "text": [
            "<ipython-input-2-69d81fa42283>:63: FutureWarning: 'M' is deprecated and will be removed in a future version, please use 'ME' instead.\n",
            "  monthly_data = df.set_index('Date').resample('M').agg(agg_rules).reset_index()\n",
            "<ipython-input-2-69d81fa42283>:63: FutureWarning: 'M' is deprecated and will be removed in a future version, please use 'ME' instead.\n",
            "  monthly_data = df.set_index('Date').resample('M').agg(agg_rules).reset_index()\n",
            "<ipython-input-2-69d81fa42283>:63: FutureWarning: 'M' is deprecated and will be removed in a future version, please use 'ME' instead.\n",
            "  monthly_data = df.set_index('Date').resample('M').agg(agg_rules).reset_index()\n"
          ]
        },
        {
          "output_type": "stream",
          "name": "stdout",
          "text": [
            "Saved /content/export_daily/QQQ_daily.csv\n",
            "Saved /content/export_weekly/QQQ_weekly.csv\n",
            "Saved /content/export_monthly/QQQ_monthly.csv\n",
            "Successfully processed QQQ\n",
            "Processing SQQQ...\n",
            "SQQQ: Removed 1538 invalid rows out of 5284\n",
            "Saved /content/export_daily/SQQQ_daily.csv\n",
            "Saved /content/export_weekly/SQQQ_weekly.csv\n",
            "Saved /content/export_monthly/SQQQ_monthly.csv\n",
            "Successfully processed SQQQ\n",
            "Processing EEM...\n",
            "Saved /content/export_daily/EEM_daily.csv\n"
          ]
        },
        {
          "output_type": "stream",
          "name": "stderr",
          "text": [
            "<ipython-input-2-69d81fa42283>:63: FutureWarning: 'M' is deprecated and will be removed in a future version, please use 'ME' instead.\n",
            "  monthly_data = df.set_index('Date').resample('M').agg(agg_rules).reset_index()\n",
            "<ipython-input-2-69d81fa42283>:63: FutureWarning: 'M' is deprecated and will be removed in a future version, please use 'ME' instead.\n",
            "  monthly_data = df.set_index('Date').resample('M').agg(agg_rules).reset_index()\n",
            "<ipython-input-2-69d81fa42283>:63: FutureWarning: 'M' is deprecated and will be removed in a future version, please use 'ME' instead.\n",
            "  monthly_data = df.set_index('Date').resample('M').agg(agg_rules).reset_index()\n"
          ]
        },
        {
          "output_type": "stream",
          "name": "stdout",
          "text": [
            "Saved /content/export_weekly/EEM_weekly.csv\n",
            "Saved /content/export_monthly/EEM_monthly.csv\n",
            "Successfully processed EEM\n",
            "Processing XLF...\n",
            "Saved /content/export_daily/XLF_daily.csv\n",
            "Saved /content/export_weekly/XLF_weekly.csv\n",
            "Saved /content/export_monthly/XLF_monthly.csv\n",
            "Successfully processed XLF\n",
            "Processing GLD...\n",
            "GLD: Removed 222 invalid rows out of 5284\n",
            "Saved /content/export_daily/GLD_daily.csv\n",
            "Saved /content/export_weekly/GLD_weekly.csv\n",
            "Saved /content/export_monthly/GLD_monthly.csv\n",
            "Successfully processed GLD\n",
            "Processing XLE...\n"
          ]
        },
        {
          "output_type": "stream",
          "name": "stderr",
          "text": [
            "<ipython-input-2-69d81fa42283>:63: FutureWarning: 'M' is deprecated and will be removed in a future version, please use 'ME' instead.\n",
            "  monthly_data = df.set_index('Date').resample('M').agg(agg_rules).reset_index()\n",
            "<ipython-input-2-69d81fa42283>:63: FutureWarning: 'M' is deprecated and will be removed in a future version, please use 'ME' instead.\n",
            "  monthly_data = df.set_index('Date').resample('M').agg(agg_rules).reset_index()\n",
            "<ipython-input-2-69d81fa42283>:63: FutureWarning: 'M' is deprecated and will be removed in a future version, please use 'ME' instead.\n",
            "  monthly_data = df.set_index('Date').resample('M').agg(agg_rules).reset_index()\n"
          ]
        },
        {
          "output_type": "stream",
          "name": "stdout",
          "text": [
            "Saved /content/export_daily/XLE_daily.csv\n",
            "Saved /content/export_weekly/XLE_weekly.csv\n",
            "Saved /content/export_monthly/XLE_monthly.csv\n",
            "Successfully processed XLE\n",
            "Processing EFA...\n",
            "Saved /content/export_daily/EFA_daily.csv\n",
            "Saved /content/export_weekly/EFA_weekly.csv\n",
            "Saved /content/export_monthly/EFA_monthly.csv\n",
            "Successfully processed EFA\n",
            "Processing GDX...\n",
            "GDX: Removed 600 invalid rows out of 5284\n",
            "Saved /content/export_daily/GDX_daily.csv\n"
          ]
        },
        {
          "output_type": "stream",
          "name": "stderr",
          "text": [
            "<ipython-input-2-69d81fa42283>:63: FutureWarning: 'M' is deprecated and will be removed in a future version, please use 'ME' instead.\n",
            "  monthly_data = df.set_index('Date').resample('M').agg(agg_rules).reset_index()\n",
            "<ipython-input-2-69d81fa42283>:63: FutureWarning: 'M' is deprecated and will be removed in a future version, please use 'ME' instead.\n",
            "  monthly_data = df.set_index('Date').resample('M').agg(agg_rules).reset_index()\n"
          ]
        },
        {
          "output_type": "stream",
          "name": "stdout",
          "text": [
            "Saved /content/export_weekly/GDX_weekly.csv\n",
            "Saved /content/export_monthly/GDX_monthly.csv\n",
            "Successfully processed GDX\n",
            "Processing XLK...\n",
            "Saved /content/export_daily/XLK_daily.csv\n",
            "Saved /content/export_weekly/XLK_weekly.csv\n",
            "Saved /content/export_monthly/XLK_monthly.csv\n",
            "Successfully processed XLK\n",
            "Processing TLT...\n",
            "Saved /content/export_daily/TLT_daily.csv\n"
          ]
        },
        {
          "output_type": "stream",
          "name": "stderr",
          "text": [
            "<ipython-input-2-69d81fa42283>:63: FutureWarning: 'M' is deprecated and will be removed in a future version, please use 'ME' instead.\n",
            "  monthly_data = df.set_index('Date').resample('M').agg(agg_rules).reset_index()\n",
            "<ipython-input-2-69d81fa42283>:63: FutureWarning: 'M' is deprecated and will be removed in a future version, please use 'ME' instead.\n",
            "  monthly_data = df.set_index('Date').resample('M').agg(agg_rules).reset_index()\n",
            "<ipython-input-2-69d81fa42283>:63: FutureWarning: 'M' is deprecated and will be removed in a future version, please use 'ME' instead.\n",
            "  monthly_data = df.set_index('Date').resample('M').agg(agg_rules).reset_index()\n"
          ]
        },
        {
          "output_type": "stream",
          "name": "stdout",
          "text": [
            "Saved /content/export_weekly/TLT_weekly.csv\n",
            "Saved /content/export_monthly/TLT_monthly.csv\n",
            "Successfully processed TLT\n",
            "Processing XLV...\n",
            "Saved /content/export_daily/XLV_daily.csv\n",
            "Saved /content/export_weekly/XLV_weekly.csv\n",
            "Saved /content/export_monthly/XLV_monthly.csv\n",
            "Successfully processed XLV\n",
            "Processing FXI...\n",
            "FXI: Removed 193 invalid rows out of 5284\n",
            "Saved /content/export_daily/FXI_daily.csv\n",
            "Saved /content/export_weekly/FXI_weekly.csv\n",
            "Saved /content/export_monthly/FXI_monthly.csv\n",
            "Successfully processed FXI\n",
            "Processing XLY...\n",
            "Saved /content/export_daily/XLY_daily.csv\n",
            "Saved /content/export_weekly/XLY_weekly.csv\n",
            "Saved /content/export_monthly/XLY_monthly.csv\n",
            "Successfully processed XLY\n",
            "Processing XLI...\n",
            "Saved /content/export_daily/XLI_daily.csv\n",
            "Saved /content/export_weekly/XLI_weekly.csv\n",
            "Saved /content/export_monthly/XLI_monthly.csv\n",
            "Successfully processed XLI\n",
            "Processing XLU...\n",
            "Saved /content/export_daily/XLU_daily.csv\n"
          ]
        },
        {
          "output_type": "stream",
          "name": "stderr",
          "text": [
            "<ipython-input-2-69d81fa42283>:63: FutureWarning: 'M' is deprecated and will be removed in a future version, please use 'ME' instead.\n",
            "  monthly_data = df.set_index('Date').resample('M').agg(agg_rules).reset_index()\n",
            "<ipython-input-2-69d81fa42283>:63: FutureWarning: 'M' is deprecated and will be removed in a future version, please use 'ME' instead.\n",
            "  monthly_data = df.set_index('Date').resample('M').agg(agg_rules).reset_index()\n",
            "<ipython-input-2-69d81fa42283>:63: FutureWarning: 'M' is deprecated and will be removed in a future version, please use 'ME' instead.\n",
            "  monthly_data = df.set_index('Date').resample('M').agg(agg_rules).reset_index()\n"
          ]
        },
        {
          "output_type": "stream",
          "name": "stdout",
          "text": [
            "Saved /content/export_weekly/XLU_weekly.csv\n",
            "Saved /content/export_monthly/XLU_monthly.csv\n",
            "Successfully processed XLU\n",
            "Processing XLP...\n",
            "Saved /content/export_daily/XLP_daily.csv\n",
            "Saved /content/export_weekly/XLP_weekly.csv\n",
            "Saved /content/export_monthly/XLP_monthly.csv\n",
            "Successfully processed XLP\n",
            "Processing XLB...\n",
            "Saved /content/export_daily/XLB_daily.csv\n",
            "Saved /content/export_weekly/XLB_weekly.csv\n",
            "Saved /content/export_monthly/XLB_monthly.csv\n",
            "Successfully processed XLB\n",
            "Processing TSLA...\n"
          ]
        },
        {
          "output_type": "stream",
          "name": "stderr",
          "text": [
            "<ipython-input-2-69d81fa42283>:63: FutureWarning: 'M' is deprecated and will be removed in a future version, please use 'ME' instead.\n",
            "  monthly_data = df.set_index('Date').resample('M').agg(agg_rules).reset_index()\n",
            "<ipython-input-2-69d81fa42283>:63: FutureWarning: 'M' is deprecated and will be removed in a future version, please use 'ME' instead.\n",
            "  monthly_data = df.set_index('Date').resample('M').agg(agg_rules).reset_index()\n",
            "<ipython-input-2-69d81fa42283>:63: FutureWarning: 'M' is deprecated and will be removed in a future version, please use 'ME' instead.\n",
            "  monthly_data = df.set_index('Date').resample('M').agg(agg_rules).reset_index()\n"
          ]
        },
        {
          "output_type": "stream",
          "name": "stdout",
          "text": [
            "TSLA: Removed 1633 invalid rows out of 5284\n",
            "Saved /content/export_daily/TSLA_daily.csv\n",
            "Saved /content/export_weekly/TSLA_weekly.csv\n",
            "Saved /content/export_monthly/TSLA_monthly.csv\n",
            "Successfully processed TSLA\n",
            "Processing AMD...\n",
            "AMD: Removed 1 invalid rows out of 5284\n",
            "Saved /content/export_daily/AMD_daily.csv\n",
            "Saved /content/export_weekly/AMD_weekly.csv\n",
            "Saved /content/export_monthly/AMD_monthly.csv\n",
            "Successfully processed AMD\n",
            "Processing AMZN...\n"
          ]
        },
        {
          "output_type": "stream",
          "name": "stderr",
          "text": [
            "<ipython-input-2-69d81fa42283>:63: FutureWarning: 'M' is deprecated and will be removed in a future version, please use 'ME' instead.\n",
            "  monthly_data = df.set_index('Date').resample('M').agg(agg_rules).reset_index()\n",
            "<ipython-input-2-69d81fa42283>:63: FutureWarning: 'M' is deprecated and will be removed in a future version, please use 'ME' instead.\n",
            "  monthly_data = df.set_index('Date').resample('M').agg(agg_rules).reset_index()\n",
            "<ipython-input-2-69d81fa42283>:63: FutureWarning: 'M' is deprecated and will be removed in a future version, please use 'ME' instead.\n",
            "  monthly_data = df.set_index('Date').resample('M').agg(agg_rules).reset_index()\n"
          ]
        },
        {
          "output_type": "stream",
          "name": "stdout",
          "text": [
            "Saved /content/export_daily/AMZN_daily.csv\n",
            "Saved /content/export_weekly/AMZN_weekly.csv\n",
            "Saved /content/export_monthly/AMZN_monthly.csv\n",
            "Successfully processed AMZN\n",
            "Processing META...\n",
            "META: Removed 2110 invalid rows out of 5284\n",
            "Saved /content/export_daily/META_daily.csv\n",
            "Saved /content/export_weekly/META_weekly.csv\n",
            "Saved /content/export_monthly/META_monthly.csv\n",
            "Successfully processed META\n",
            "Processing NVDA...\n",
            "Saved /content/export_daily/NVDA_daily.csv\n"
          ]
        },
        {
          "output_type": "stream",
          "name": "stderr",
          "text": [
            "<ipython-input-2-69d81fa42283>:63: FutureWarning: 'M' is deprecated and will be removed in a future version, please use 'ME' instead.\n",
            "  monthly_data = df.set_index('Date').resample('M').agg(agg_rules).reset_index()\n",
            "<ipython-input-2-69d81fa42283>:63: FutureWarning: 'M' is deprecated and will be removed in a future version, please use 'ME' instead.\n",
            "  monthly_data = df.set_index('Date').resample('M').agg(agg_rules).reset_index()\n",
            "<ipython-input-2-69d81fa42283>:63: FutureWarning: 'M' is deprecated and will be removed in a future version, please use 'ME' instead.\n",
            "  monthly_data = df.set_index('Date').resample('M').agg(agg_rules).reset_index()\n"
          ]
        },
        {
          "output_type": "stream",
          "name": "stdout",
          "text": [
            "Saved /content/export_weekly/NVDA_weekly.csv\n",
            "Saved /content/export_monthly/NVDA_monthly.csv\n",
            "Successfully processed NVDA\n",
            "Processing BAC...\n",
            "Saved /content/export_daily/BAC_daily.csv\n",
            "Saved /content/export_weekly/BAC_weekly.csv\n",
            "Saved /content/export_monthly/BAC_monthly.csv\n",
            "Successfully processed BAC\n",
            "Processing F...\n",
            "Saved /content/export_daily/F_daily.csv\n",
            "Saved /content/export_weekly/F_weekly.csv\n",
            "Saved /content/export_monthly/F_monthly.csv\n",
            "Successfully processed F\n",
            "Processing LCID...\n",
            "LCID: Removed 4207 invalid rows out of 5284\n",
            "Saved /content/export_daily/LCID_daily.csv\n",
            "Saved /content/export_weekly/LCID_weekly.csv\n",
            "Saved /content/export_monthly/LCID_monthly.csv\n",
            "Successfully processed LCID\n",
            "Processing WFC...\n",
            "Saved /content/export_daily/WFC_daily.csv\n",
            "Saved /content/export_weekly/WFC_weekly.csv\n",
            "Saved /content/export_monthly/WFC_monthly.csv\n",
            "Successfully processed WFC\n",
            "Processing T...\n",
            "Saved /content/export_daily/T_daily.csv\n"
          ]
        },
        {
          "output_type": "stream",
          "name": "stderr",
          "text": [
            "<ipython-input-2-69d81fa42283>:63: FutureWarning: 'M' is deprecated and will be removed in a future version, please use 'ME' instead.\n",
            "  monthly_data = df.set_index('Date').resample('M').agg(agg_rules).reset_index()\n",
            "<ipython-input-2-69d81fa42283>:63: FutureWarning: 'M' is deprecated and will be removed in a future version, please use 'ME' instead.\n",
            "  monthly_data = df.set_index('Date').resample('M').agg(agg_rules).reset_index()\n",
            "<ipython-input-2-69d81fa42283>:63: FutureWarning: 'M' is deprecated and will be removed in a future version, please use 'ME' instead.\n",
            "  monthly_data = df.set_index('Date').resample('M').agg(agg_rules).reset_index()\n"
          ]
        },
        {
          "output_type": "stream",
          "name": "stdout",
          "text": [
            "Saved /content/export_weekly/T_weekly.csv\n",
            "Saved /content/export_monthly/T_monthly.csv\n",
            "Successfully processed T\n",
            "Processing PLTR...\n",
            "PLTR: Removed 4215 invalid rows out of 5284\n",
            "Saved /content/export_daily/PLTR_daily.csv\n",
            "Saved /content/export_weekly/PLTR_weekly.csv\n",
            "Saved /content/export_monthly/PLTR_monthly.csv\n",
            "Successfully processed PLTR\n",
            "Processing GE...\n",
            "Saved /content/export_daily/GE_daily.csv\n",
            "Saved /content/export_weekly/GE_weekly.csv\n",
            "Saved /content/export_monthly/GE_monthly.csv\n",
            "Successfully processed GE\n",
            "Processing GOOGL...\n",
            "GOOGL: Removed 158 invalid rows out of 5284\n"
          ]
        },
        {
          "output_type": "stream",
          "name": "stderr",
          "text": [
            "<ipython-input-2-69d81fa42283>:63: FutureWarning: 'M' is deprecated and will be removed in a future version, please use 'ME' instead.\n",
            "  monthly_data = df.set_index('Date').resample('M').agg(agg_rules).reset_index()\n",
            "<ipython-input-2-69d81fa42283>:63: FutureWarning: 'M' is deprecated and will be removed in a future version, please use 'ME' instead.\n",
            "  monthly_data = df.set_index('Date').resample('M').agg(agg_rules).reset_index()\n"
          ]
        },
        {
          "output_type": "stream",
          "name": "stdout",
          "text": [
            "Saved /content/export_daily/GOOGL_daily.csv\n",
            "Saved /content/export_weekly/GOOGL_weekly.csv\n",
            "Saved /content/export_monthly/GOOGL_monthly.csv\n",
            "Successfully processed GOOGL\n",
            "Processing GOOG...\n",
            "GOOG: Removed 158 invalid rows out of 5284\n",
            "Saved /content/export_daily/GOOG_daily.csv\n",
            "Saved /content/export_weekly/GOOG_weekly.csv\n",
            "Saved /content/export_monthly/GOOG_monthly.csv\n",
            "Successfully processed GOOG\n",
            "Processing PYPL...\n",
            "PYPL: Removed 2895 invalid rows out of 5284\n",
            "Saved /content/export_daily/PYPL_daily.csv\n"
          ]
        },
        {
          "output_type": "stream",
          "name": "stderr",
          "text": [
            "<ipython-input-2-69d81fa42283>:63: FutureWarning: 'M' is deprecated and will be removed in a future version, please use 'ME' instead.\n",
            "  monthly_data = df.set_index('Date').resample('M').agg(agg_rules).reset_index()\n",
            "<ipython-input-2-69d81fa42283>:63: FutureWarning: 'M' is deprecated and will be removed in a future version, please use 'ME' instead.\n",
            "  monthly_data = df.set_index('Date').resample('M').agg(agg_rules).reset_index()\n",
            "<ipython-input-2-69d81fa42283>:63: FutureWarning: 'M' is deprecated and will be removed in a future version, please use 'ME' instead.\n",
            "  monthly_data = df.set_index('Date').resample('M').agg(agg_rules).reset_index()\n"
          ]
        },
        {
          "output_type": "stream",
          "name": "stdout",
          "text": [
            "Saved /content/export_weekly/PYPL_weekly.csv\n",
            "Saved /content/export_monthly/PYPL_monthly.csv\n",
            "Successfully processed PYPL\n",
            "Processing NFLX...\n",
            "Saved /content/export_daily/NFLX_daily.csv\n",
            "Saved /content/export_weekly/NFLX_weekly.csv\n",
            "Saved /content/export_monthly/NFLX_monthly.csv\n",
            "Successfully processed NFLX\n",
            "Processing MRO...\n",
            "MRO: Removed 26 invalid rows out of 5284\n",
            "Saved /content/export_daily/MRO_daily.csv\n"
          ]
        },
        {
          "output_type": "stream",
          "name": "stderr",
          "text": [
            "<ipython-input-2-69d81fa42283>:63: FutureWarning: 'M' is deprecated and will be removed in a future version, please use 'ME' instead.\n",
            "  monthly_data = df.set_index('Date').resample('M').agg(agg_rules).reset_index()\n",
            "<ipython-input-2-69d81fa42283>:63: FutureWarning: 'M' is deprecated and will be removed in a future version, please use 'ME' instead.\n",
            "  monthly_data = df.set_index('Date').resample('M').agg(agg_rules).reset_index()\n"
          ]
        },
        {
          "output_type": "stream",
          "name": "stdout",
          "text": [
            "Saved /content/export_weekly/MRO_weekly.csv\n",
            "Saved /content/export_monthly/MRO_monthly.csv\n",
            "Successfully processed MRO\n",
            "Processing PFE...\n",
            "Saved /content/export_daily/PFE_daily.csv\n",
            "Saved /content/export_weekly/PFE_weekly.csv\n",
            "Saved /content/export_monthly/PFE_monthly.csv\n",
            "Successfully processed PFE\n",
            "Processing SOFI...\n",
            "SOFI: Removed 4280 invalid rows out of 5284\n",
            "Saved /content/export_daily/SOFI_daily.csv\n",
            "Saved /content/export_weekly/SOFI_weekly.csv\n",
            "Saved /content/export_monthly/SOFI_monthly.csv\n",
            "Successfully processed SOFI\n",
            "Processing UBER...\n",
            "UBER: Removed 3864 invalid rows out of 5284\n",
            "Saved /content/export_daily/UBER_daily.csv\n",
            "Saved /content/export_weekly/UBER_weekly.csv\n",
            "Saved /content/export_monthly/UBER_monthly.csv\n",
            "Successfully processed UBER\n",
            "Processing XOM...\n"
          ]
        },
        {
          "output_type": "stream",
          "name": "stderr",
          "text": [
            "<ipython-input-2-69d81fa42283>:63: FutureWarning: 'M' is deprecated and will be removed in a future version, please use 'ME' instead.\n",
            "  monthly_data = df.set_index('Date').resample('M').agg(agg_rules).reset_index()\n",
            "<ipython-input-2-69d81fa42283>:63: FutureWarning: 'M' is deprecated and will be removed in a future version, please use 'ME' instead.\n",
            "  monthly_data = df.set_index('Date').resample('M').agg(agg_rules).reset_index()\n",
            "<ipython-input-2-69d81fa42283>:63: FutureWarning: 'M' is deprecated and will be removed in a future version, please use 'ME' instead.\n",
            "  monthly_data = df.set_index('Date').resample('M').agg(agg_rules).reset_index()\n",
            "<ipython-input-2-69d81fa42283>:63: FutureWarning: 'M' is deprecated and will be removed in a future version, please use 'ME' instead.\n",
            "  monthly_data = df.set_index('Date').resample('M').agg(agg_rules).reset_index()\n"
          ]
        },
        {
          "output_type": "stream",
          "name": "stdout",
          "text": [
            "Saved /content/export_daily/XOM_daily.csv\n",
            "Saved /content/export_weekly/XOM_weekly.csv\n",
            "Saved /content/export_monthly/XOM_monthly.csv\n",
            "Successfully processed XOM\n",
            "Processing AAP...\n",
            "Saved /content/export_daily/AAP_daily.csv\n",
            "Saved /content/export_weekly/AAP_weekly.csv\n",
            "Saved /content/export_monthly/AAP_monthly.csv\n",
            "Successfully processed AAP\n",
            "Processing MS...\n",
            "Saved /content/export_daily/MS_daily.csv\n"
          ]
        },
        {
          "output_type": "stream",
          "name": "stderr",
          "text": [
            "<ipython-input-2-69d81fa42283>:63: FutureWarning: 'M' is deprecated and will be removed in a future version, please use 'ME' instead.\n",
            "  monthly_data = df.set_index('Date').resample('M').agg(agg_rules).reset_index()\n",
            "<ipython-input-2-69d81fa42283>:63: FutureWarning: 'M' is deprecated and will be removed in a future version, please use 'ME' instead.\n",
            "  monthly_data = df.set_index('Date').resample('M').agg(agg_rules).reset_index()\n",
            "<ipython-input-2-69d81fa42283>:63: FutureWarning: 'M' is deprecated and will be removed in a future version, please use 'ME' instead.\n",
            "  monthly_data = df.set_index('Date').resample('M').agg(agg_rules).reset_index()\n"
          ]
        },
        {
          "output_type": "stream",
          "name": "stdout",
          "text": [
            "Saved /content/export_weekly/MS_weekly.csv\n",
            "Saved /content/export_monthly/MS_monthly.csv\n",
            "Successfully processed MS\n",
            "Processing BMY...\n",
            "Saved /content/export_daily/BMY_daily.csv\n",
            "Saved /content/export_weekly/BMY_weekly.csv\n",
            "Saved /content/export_monthly/BMY_monthly.csv\n",
            "Successfully processed BMY\n",
            "Processing GM...\n",
            "GM: Removed 1733 invalid rows out of 5284\n",
            "Saved /content/export_daily/GM_daily.csv\n",
            "Saved /content/export_weekly/GM_weekly.csv\n",
            "Saved /content/export_monthly/GM_monthly.csv\n",
            "Successfully processed GM\n",
            "Processing OXY...\n"
          ]
        },
        {
          "output_type": "stream",
          "name": "stderr",
          "text": [
            "<ipython-input-2-69d81fa42283>:63: FutureWarning: 'M' is deprecated and will be removed in a future version, please use 'ME' instead.\n",
            "  monthly_data = df.set_index('Date').resample('M').agg(agg_rules).reset_index()\n",
            "<ipython-input-2-69d81fa42283>:63: FutureWarning: 'M' is deprecated and will be removed in a future version, please use 'ME' instead.\n",
            "  monthly_data = df.set_index('Date').resample('M').agg(agg_rules).reset_index()\n",
            "<ipython-input-2-69d81fa42283>:63: FutureWarning: 'M' is deprecated and will be removed in a future version, please use 'ME' instead.\n",
            "  monthly_data = df.set_index('Date').resample('M').agg(agg_rules).reset_index()\n"
          ]
        },
        {
          "output_type": "stream",
          "name": "stdout",
          "text": [
            "Saved /content/export_daily/OXY_daily.csv\n",
            "Saved /content/export_weekly/OXY_weekly.csv\n",
            "Saved /content/export_monthly/OXY_monthly.csv\n",
            "Successfully processed OXY\n",
            "Processing C...\n",
            "Saved /content/export_daily/C_daily.csv\n",
            "Saved /content/export_weekly/C_weekly.csv\n",
            "Saved /content/export_monthly/C_monthly.csv\n",
            "Successfully processed C\n",
            "Processing CCL...\n",
            "Saved /content/export_daily/CCL_daily.csv\n"
          ]
        },
        {
          "output_type": "stream",
          "name": "stderr",
          "text": [
            "<ipython-input-2-69d81fa42283>:63: FutureWarning: 'M' is deprecated and will be removed in a future version, please use 'ME' instead.\n",
            "  monthly_data = df.set_index('Date').resample('M').agg(agg_rules).reset_index()\n",
            "<ipython-input-2-69d81fa42283>:63: FutureWarning: 'M' is deprecated and will be removed in a future version, please use 'ME' instead.\n",
            "  monthly_data = df.set_index('Date').resample('M').agg(agg_rules).reset_index()\n",
            "<ipython-input-2-69d81fa42283>:63: FutureWarning: 'M' is deprecated and will be removed in a future version, please use 'ME' instead.\n",
            "  monthly_data = df.set_index('Date').resample('M').agg(agg_rules).reset_index()\n",
            "<ipython-input-2-69d81fa42283>:63: FutureWarning: 'M' is deprecated and will be removed in a future version, please use 'ME' instead.\n",
            "  monthly_data = df.set_index('Date').resample('M').agg(agg_rules).reset_index()\n"
          ]
        },
        {
          "output_type": "stream",
          "name": "stdout",
          "text": [
            "Saved /content/export_weekly/CCL_weekly.csv\n",
            "Saved /content/export_monthly/CCL_monthly.csv\n",
            "Successfully processed CCL\n",
            "Processing SNAP...\n",
            "SNAP: Removed 3313 invalid rows out of 5284\n",
            "Saved /content/export_daily/SNAP_daily.csv\n",
            "Saved /content/export_weekly/SNAP_weekly.csv\n",
            "Saved /content/export_monthly/SNAP_monthly.csv\n",
            "Successfully processed SNAP\n",
            "Processing SQ...\n",
            "SQ: Removed 2992 invalid rows out of 5284\n",
            "Saved /content/export_daily/SQ_daily.csv\n",
            "Saved /content/export_weekly/SQ_weekly.csv\n",
            "Saved /content/export_monthly/SQ_monthly.csv\n",
            "Successfully processed SQ\n",
            "Processing NIO...\n",
            "NIO: Removed 3699 invalid rows out of 5284\n",
            "Saved /content/export_daily/NIO_daily.csv\n",
            "Saved /content/export_weekly/NIO_weekly.csv\n",
            "Saved /content/export_monthly/NIO_monthly.csv\n",
            "Successfully processed NIO\n",
            "Processing X...\n",
            "Saved /content/export_daily/X_daily.csv\n",
            "Saved /content/export_weekly/X_weekly.csv\n",
            "Saved /content/export_monthly/X_monthly.csv\n",
            "Successfully processed X\n",
            "Processing DAL...\n",
            "DAL: Removed 838 invalid rows out of 5284\n",
            "Saved /content/export_daily/DAL_daily.csv\n",
            "Saved /content/export_weekly/DAL_weekly.csv\n",
            "Saved /content/export_monthly/DAL_monthly.csv\n",
            "Successfully processed DAL\n",
            "Processing FCX...\n",
            "Saved /content/export_daily/FCX_daily.csv\n"
          ]
        },
        {
          "output_type": "stream",
          "name": "stderr",
          "text": [
            "<ipython-input-2-69d81fa42283>:63: FutureWarning: 'M' is deprecated and will be removed in a future version, please use 'ME' instead.\n",
            "  monthly_data = df.set_index('Date').resample('M').agg(agg_rules).reset_index()\n",
            "<ipython-input-2-69d81fa42283>:63: FutureWarning: 'M' is deprecated and will be removed in a future version, please use 'ME' instead.\n",
            "  monthly_data = df.set_index('Date').resample('M').agg(agg_rules).reset_index()\n",
            "<ipython-input-2-69d81fa42283>:63: FutureWarning: 'M' is deprecated and will be removed in a future version, please use 'ME' instead.\n",
            "  monthly_data = df.set_index('Date').resample('M').agg(agg_rules).reset_index()\n"
          ]
        },
        {
          "output_type": "stream",
          "name": "stdout",
          "text": [
            "Saved /content/export_weekly/FCX_weekly.csv\n",
            "Saved /content/export_monthly/FCX_monthly.csv\n",
            "Successfully processed FCX\n",
            "Processing BABA...\n",
            "BABA: Removed 2697 invalid rows out of 5284\n",
            "Saved /content/export_daily/BABA_daily.csv\n",
            "Saved /content/export_weekly/BABA_weekly.csv\n",
            "Saved /content/export_monthly/BABA_monthly.csv\n",
            "Successfully processed BABA\n",
            "Processing DVN...\n",
            "Saved /content/export_daily/DVN_daily.csv\n",
            "Saved /content/export_weekly/DVN_weekly.csv\n",
            "Saved /content/export_monthly/DVN_monthly.csv\n",
            "Successfully processed DVN\n",
            "Processing MPC...\n",
            "MPC: Removed 1883 invalid rows out of 5284\n"
          ]
        },
        {
          "output_type": "stream",
          "name": "stderr",
          "text": [
            "<ipython-input-2-69d81fa42283>:63: FutureWarning: 'M' is deprecated and will be removed in a future version, please use 'ME' instead.\n",
            "  monthly_data = df.set_index('Date').resample('M').agg(agg_rules).reset_index()\n",
            "<ipython-input-2-69d81fa42283>:63: FutureWarning: 'M' is deprecated and will be removed in a future version, please use 'ME' instead.\n",
            "  monthly_data = df.set_index('Date').resample('M').agg(agg_rules).reset_index()\n",
            "<ipython-input-2-69d81fa42283>:63: FutureWarning: 'M' is deprecated and will be removed in a future version, please use 'ME' instead.\n",
            "  monthly_data = df.set_index('Date').resample('M').agg(agg_rules).reset_index()\n"
          ]
        },
        {
          "output_type": "stream",
          "name": "stdout",
          "text": [
            "Saved /content/export_daily/MPC_daily.csv\n",
            "Saved /content/export_weekly/MPC_weekly.csv\n",
            "Saved /content/export_monthly/MPC_monthly.csv\n",
            "Successfully processed MPC\n",
            "Processing RIVN...\n",
            "RIVN: Removed 4496 invalid rows out of 5284\n",
            "Saved /content/export_daily/RIVN_daily.csv\n",
            "Saved /content/export_weekly/RIVN_weekly.csv\n",
            "Saved /content/export_monthly/RIVN_monthly.csv\n",
            "Successfully processed RIVN\n",
            "Processing UAL...\n",
            "UAL: Removed 527 invalid rows out of 5284\n",
            "Saved /content/export_daily/UAL_daily.csv\n",
            "Saved /content/export_weekly/UAL_weekly.csv\n",
            "Saved /content/export_monthly/UAL_monthly.csv\n",
            "Successfully processed UAL\n",
            "Processing AAL...\n"
          ]
        },
        {
          "output_type": "stream",
          "name": "stderr",
          "text": [
            "<ipython-input-2-69d81fa42283>:63: FutureWarning: 'M' is deprecated and will be removed in a future version, please use 'ME' instead.\n",
            "  monthly_data = df.set_index('Date').resample('M').agg(agg_rules).reset_index()\n",
            "<ipython-input-2-69d81fa42283>:63: FutureWarning: 'M' is deprecated and will be removed in a future version, please use 'ME' instead.\n",
            "  monthly_data = df.set_index('Date').resample('M').agg(agg_rules).reset_index()\n",
            "<ipython-input-2-69d81fa42283>:63: FutureWarning: 'M' is deprecated and will be removed in a future version, please use 'ME' instead.\n",
            "  monthly_data = df.set_index('Date').resample('M').agg(agg_rules).reset_index()\n"
          ]
        },
        {
          "output_type": "stream",
          "name": "stdout",
          "text": [
            "AAL: Removed 437 invalid rows out of 5284\n",
            "Saved /content/export_daily/AAL_daily.csv\n",
            "Saved /content/export_weekly/AAL_weekly.csv\n",
            "Saved /content/export_monthly/AAL_monthly.csv\n",
            "Successfully processed AAL\n",
            "Processing GOLD...\n",
            "Saved /content/export_daily/GOLD_daily.csv\n",
            "Saved /content/export_weekly/GOLD_weekly.csv\n",
            "Saved /content/export_monthly/GOLD_monthly.csv\n",
            "Successfully processed GOLD\n",
            "Processing ABBV...\n",
            "ABBV: Removed 2265 invalid rows out of 5284\n",
            "Saved /content/export_daily/ABBV_daily.csv\n"
          ]
        },
        {
          "output_type": "stream",
          "name": "stderr",
          "text": [
            "<ipython-input-2-69d81fa42283>:63: FutureWarning: 'M' is deprecated and will be removed in a future version, please use 'ME' instead.\n",
            "  monthly_data = df.set_index('Date').resample('M').agg(agg_rules).reset_index()\n",
            "<ipython-input-2-69d81fa42283>:63: FutureWarning: 'M' is deprecated and will be removed in a future version, please use 'ME' instead.\n",
            "  monthly_data = df.set_index('Date').resample('M').agg(agg_rules).reset_index()\n",
            "<ipython-input-2-69d81fa42283>:63: FutureWarning: 'M' is deprecated and will be removed in a future version, please use 'ME' instead.\n",
            "  monthly_data = df.set_index('Date').resample('M').agg(agg_rules).reset_index()\n"
          ]
        },
        {
          "output_type": "stream",
          "name": "stdout",
          "text": [
            "Saved /content/export_weekly/ABBV_weekly.csv\n",
            "Saved /content/export_monthly/ABBV_monthly.csv\n",
            "Successfully processed ABBV\n",
            "Processing HAL...\n",
            "Saved /content/export_daily/HAL_daily.csv\n",
            "Saved /content/export_weekly/HAL_weekly.csv\n",
            "Saved /content/export_monthly/HAL_monthly.csv\n",
            "Successfully processed HAL\n",
            "Processing TGT...\n",
            "Saved /content/export_daily/TGT_daily.csv\n",
            "Saved /content/export_weekly/TGT_weekly.csv\n",
            "Saved /content/export_monthly/TGT_monthly.csv\n",
            "Successfully processed TGT\n",
            "Processing MU...\n"
          ]
        },
        {
          "output_type": "stream",
          "name": "stderr",
          "text": [
            "<ipython-input-2-69d81fa42283>:63: FutureWarning: 'M' is deprecated and will be removed in a future version, please use 'ME' instead.\n",
            "  monthly_data = df.set_index('Date').resample('M').agg(agg_rules).reset_index()\n",
            "<ipython-input-2-69d81fa42283>:63: FutureWarning: 'M' is deprecated and will be removed in a future version, please use 'ME' instead.\n",
            "  monthly_data = df.set_index('Date').resample('M').agg(agg_rules).reset_index()\n",
            "<ipython-input-2-69d81fa42283>:63: FutureWarning: 'M' is deprecated and will be removed in a future version, please use 'ME' instead.\n",
            "  monthly_data = df.set_index('Date').resample('M').agg(agg_rules).reset_index()\n",
            "<ipython-input-2-69d81fa42283>:63: FutureWarning: 'M' is deprecated and will be removed in a future version, please use 'ME' instead.\n",
            "  monthly_data = df.set_index('Date').resample('M').agg(agg_rules).reset_index()\n"
          ]
        },
        {
          "output_type": "stream",
          "name": "stdout",
          "text": [
            "Saved /content/export_daily/MU_daily.csv\n",
            "Saved /content/export_weekly/MU_weekly.csv\n",
            "Saved /content/export_monthly/MU_monthly.csv\n",
            "Successfully processed MU\n",
            "Processing HOOD...\n",
            "HOOD: Removed 4423 invalid rows out of 5284\n",
            "Saved /content/export_daily/HOOD_daily.csv\n",
            "Saved /content/export_weekly/HOOD_weekly.csv\n",
            "Saved /content/export_monthly/HOOD_monthly.csv\n",
            "Successfully processed HOOD\n",
            "Processing DKNG...\n",
            "DKNG: Removed 3984 invalid rows out of 5284\n",
            "Saved /content/export_daily/DKNG_daily.csv\n",
            "DKNG_weekly: Removed 5 invalid rows out of 282\n",
            "Saved /content/export_weekly/DKNG_weekly.csv\n",
            "Saved /content/export_monthly/DKNG_monthly.csv\n",
            "Successfully processed DKNG\n",
            "Processing COP...\n",
            "Saved /content/export_daily/COP_daily.csv\n",
            "Saved /content/export_weekly/COP_weekly.csv\n",
            "Saved /content/export_monthly/COP_monthly.csv\n",
            "Successfully processed COP\n",
            "Processing CVE...\n",
            "CVE: Removed 1488 invalid rows out of 5284\n",
            "Saved /content/export_daily/CVE_daily.csv\n",
            "Saved /content/export_weekly/CVE_weekly.csv\n",
            "Saved /content/export_monthly/CVE_monthly.csv\n",
            "Successfully processed CVE\n",
            "Processing PENN...\n",
            "Saved /content/export_daily/PENN_daily.csv\n",
            "Saved /content/export_weekly/PENN_weekly.csv\n",
            "Saved /content/export_monthly/PENN_monthly.csv\n",
            "Successfully processed PENN\n"
          ]
        },
        {
          "output_type": "stream",
          "name": "stderr",
          "text": [
            "<ipython-input-2-69d81fa42283>:63: FutureWarning: 'M' is deprecated and will be removed in a future version, please use 'ME' instead.\n",
            "  monthly_data = df.set_index('Date').resample('M').agg(agg_rules).reset_index()\n",
            "<ipython-input-2-69d81fa42283>:63: FutureWarning: 'M' is deprecated and will be removed in a future version, please use 'ME' instead.\n",
            "  monthly_data = df.set_index('Date').resample('M').agg(agg_rules).reset_index()\n",
            "<ipython-input-2-69d81fa42283>:63: FutureWarning: 'M' is deprecated and will be removed in a future version, please use 'ME' instead.\n",
            "  monthly_data = df.set_index('Date').resample('M').agg(agg_rules).reset_index()\n"
          ]
        }
      ]
    },
    {
      "cell_type": "code",
      "source": [
        "import pandas as pd\n",
        "import os\n",
        "\n",
        "# Use same tickers as cell 1\n",
        "tickers = [\"SPY\", \"TQQQ\", \"QQQ\", \"SQQQ\", \"EEM\", \"XLF\", \"GLD\", \"XLE\", \"EFA\", \"GDX\", \"XLK\",\n",
        "           \"TLT\", \"XLV\", \"FXI\", \"XLY\",\n",
        "           \"XLI\", \"XLU\", \"XLP\", \"XLB\"]\n",
        "\n",
        "# Create export directories if they don't exist\n",
        "os.makedirs('/content/export_daily', exist_ok=True)\n",
        "os.makedirs('/content/export_weekly', exist_ok=True)\n",
        "os.makedirs('/content/export_monthly', exist_ok=True)\n",
        "\n",
        "def load_data(ticker):\n",
        "    file_path = f'{ticker}_OHLC.csv'\n",
        "    df = pd.read_csv(file_path)\n",
        "    df['Date'] = pd.to_datetime(df['Date'])\n",
        "\n",
        "    # Ensure column order for daily data\n",
        "    column_order = ['Date', 'Open', 'High', 'Low', 'Close']\n",
        "    df = df[column_order]\n",
        "\n",
        "    return df\n",
        "\n",
        "def aggregate_data(df):\n",
        "    agg_rules = {\n",
        "        'Open': 'first',\n",
        "        'High': 'max',\n",
        "        'Low': 'min',\n",
        "        'Close': 'last'\n",
        "    }\n",
        "\n",
        "    weekly_data = df.set_index('Date').resample('W').agg(agg_rules).reset_index()\n",
        "    monthly_data = df.set_index('Date').resample('M').agg(agg_rules).reset_index()\n",
        "\n",
        "    column_order = ['Date', 'Open', 'High', 'Low', 'Close']\n",
        "    weekly_data = weekly_data[column_order]\n",
        "    monthly_data = monthly_data[column_order]\n",
        "\n",
        "    return weekly_data, monthly_data\n",
        "\n",
        "def save_to_csv(data, ticker, period):\n",
        "    if period == 'daily':\n",
        "        file_path = f'/content/export_daily/{ticker}_daily.csv'\n",
        "    elif period == 'weekly':\n",
        "        file_path = f'/content/export_weekly/{ticker}_weekly.csv'\n",
        "    else:\n",
        "        file_path = f'/content/export_monthly/{ticker}_monthly.csv'\n",
        "\n",
        "    data.to_csv(file_path, index=False)\n",
        "    print(f\"Saved {file_path}\")\n",
        "\n",
        "def process_ticker(ticker):\n",
        "    print(f\"Processing {ticker}...\")\n",
        "    try:\n",
        "        # Load and save daily data\n",
        "        df = load_data(ticker)\n",
        "        save_to_csv(df, ticker, 'daily')\n",
        "\n",
        "        # Process and save weekly/monthly data\n",
        "        weekly_data, monthly_data = aggregate_data(df)\n",
        "        save_to_csv(weekly_data, ticker, 'weekly')\n",
        "        save_to_csv(monthly_data, ticker, 'monthly')\n",
        "\n",
        "        print(f\"Successfully processed {ticker}\")\n",
        "    except Exception as e:\n",
        "        print(f\"Error processing {ticker}: {str(e)}\")\n",
        "\n",
        "# Process all tickers\n",
        "for ticker in tickers:\n",
        "    process_ticker(ticker)"
      ],
      "metadata": {
        "id": "6ve3zS_MiUOZ"
      },
      "execution_count": null,
      "outputs": []
    },
    {
      "cell_type": "code",
      "source": [
        "from google.colab import files\n",
        "import os\n",
        "\n",
        "def count_and_download_files(directory, period):\n",
        "    file_count = len([name for name in os.listdir(directory) if os.path.isfile(os.path.join(directory, name))])\n",
        "    print(f\"Found {file_count} {period} files\")\n",
        "\n",
        "    # Download files\n",
        "    for filename in os.listdir(directory):\n",
        "        filepath = os.path.join(directory, filename)\n",
        "        if os.path.isfile(filepath):\n",
        "            files.download(filepath)\n",
        "\n",
        "print(\"\\nCounting and downloading files...\\n\")\n",
        "count_and_download_files('/content/export_monthly', 'monthly')"
      ],
      "metadata": {
        "id": "oJTyFfojgdFU"
      },
      "execution_count": null,
      "outputs": []
    },
    {
      "cell_type": "code",
      "source": [
        "from google.colab import files\n",
        "import os\n",
        "import zipfile\n",
        "\n",
        "def zip_and_download(source_dir, period):\n",
        "    # Count files\n",
        "    file_count = len([name for name in os.listdir(source_dir) if os.path.isfile(os.path.join(source_dir, name))])\n",
        "    print(f\"Found {file_count} {period} files\")\n",
        "\n",
        "    # Create zip file\n",
        "    zip_filename = f'{period}_files.zip'\n",
        "    with zipfile.ZipFile(zip_filename, 'w') as zipf:\n",
        "        for file in os.listdir(source_dir):\n",
        "            file_path = os.path.join(source_dir, file)\n",
        "            if os.path.isfile(file_path):\n",
        "                zipf.write(file_path, arcname=file)\n",
        "\n",
        "    # Download zip file\n",
        "    files.download(zip_filename)\n",
        "    print(f\"Downloaded {zip_filename}\")\n",
        "\n",
        "# Create and download zips for each period\n",
        "print(\"\\nCreating and downloading zip files...\\n\")\n",
        "zip_and_download('/content/export_monthly', 'monthly')\n",
        "zip_and_download('/content/export_weekly', 'weekly')\n",
        "#zip_and_download('/content/export_daily', 'daily')"
      ],
      "metadata": {
        "id": "TR6zwuh8lwNd"
      },
      "execution_count": null,
      "outputs": []
    },
    {
      "cell_type": "code",
      "source": [
        "from google.colab import files\n",
        "import os\n",
        "\n",
        "def count_and_download_files(directory, period):\n",
        "    file_count = len([name for name in os.listdir(directory) if os.path.isfile(os.path.join(directory, name))])\n",
        "    print(f\"Found {file_count} {period} files\")\n",
        "\n",
        "    # Download files\n",
        "    for filename in os.listdir(directory):\n",
        "        filepath = os.path.join(directory, filename)\n",
        "        if os.path.isfile(filepath):\n",
        "            files.download(filepath)\n",
        "\n",
        "print(\"\\nCounting and downloading files...\\n\")\n",
        "count_and_download_files('/content/export_daily', 'daily')\n",
        "count_and_download_files('/content/export_weekly', 'weekly')\n",
        "count_and_download_files('/content/export_monthly', 'monthly')"
      ],
      "metadata": {
        "id": "IP0pN_KwlWiF"
      },
      "execution_count": null,
      "outputs": []
    },
    {
      "cell_type": "code",
      "source": [
        "import pandas as pd\n",
        "\n",
        "# Load data from CSV\n",
        "def load_data(file_path):\n",
        "    # Load the CSV file\n",
        "    df = pd.read_csv(file_path)\n",
        "    # Ensure 'Date' column is in datetime format\n",
        "    df['Date'] = pd.to_datetime(df['Date'])\n",
        "    # Set 'Date' as the index\n",
        "    df.set_index('Date', inplace=True)\n",
        "    return df\n",
        "\n",
        "# Aggregate data to weekly and monthly levels\n",
        "def aggregate_data(df):\n",
        "    # Weekly aggregation (sum)\n",
        "    weekly_data = df.resample('W').sum()\n",
        "\n",
        "    # Monthly aggregation (mean)\n",
        "    monthly_data = df.resample('ME').mean()\n",
        "\n",
        "    return weekly_data, monthly_data\n",
        "\n",
        "# Save aggregated data to CSV\n",
        "def save_to_csv(data, file_name):\n",
        "    data.to_csv(file_name)\n",
        "    print(f\"Saved {file_name}\")\n",
        "\n",
        "# Main program\n",
        "if __name__ == \"__main__\":\n",
        "    # Path to the input CSV file\n",
        "    input_file = \"/content/\"  # Replace with your file path\n",
        "\n",
        "    print(\"Loading data from CSV...\")\n",
        "    df = load_data(input_file)\n",
        "    print(\"Daily Data:\")\n",
        "    print(df.head())\n",
        "\n",
        "    print(\"\\nAggregating data to weekly and monthly levels...\")\n",
        "    weekly_data, monthly_data = aggregate_data(df)\n",
        "\n",
        "    print(\"\\nWeekly Data (Sum):\")\n",
        "    print(weekly_data.head())\n",
        "\n",
        "    print(\"\\nMonthly Data (Mean):\")\n",
        "    print(monthly_data.head())\n",
        "\n",
        "    # Save aggregated data to CSV files\n",
        "    save_to_csv(weekly_data, \"XLB_weekly_data.csv\")\n",
        "    save_to_csv(monthly_data, \"XLB_monthly_data.csv\")\n",
        "    print(\"\\nAggregated data saved to CSV files.\")\n"
      ],
      "metadata": {
        "id": "BgFJ5ijRpc93"
      },
      "execution_count": null,
      "outputs": []
    }
  ]
}